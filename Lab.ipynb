{
 "cells": [
  {
   "cell_type": "markdown",
   "id": "039c6a8d",
   "metadata": {},
   "source": [
    "### **Laboratorio 4: Geoespacial**\n",
    "- Juan Pablo Solis\n",
    "- Isabella Miralles"
   ]
  },
  {
   "cell_type": "markdown",
   "id": "617eff3f",
   "metadata": {},
   "source": [
    "#### **Conexion a Sentinel 2**"
   ]
  },
  {
   "cell_type": "code",
   "execution_count": 3,
   "id": "3fb359e2",
   "metadata": {},
   "outputs": [],
   "source": [
    "import rasterio\n",
    "import numpy as np\n",
    "import matplotlib.pyplot as plt\n",
    "from datetime import date\n",
    "import openeo"
   ]
  },
  {
   "cell_type": "code",
   "execution_count": 4,
   "id": "5329b87e",
   "metadata": {},
   "outputs": [
    {
     "name": "stdout",
     "output_type": "stream",
     "text": [
      "Authenticated using refresh token.\n"
     ]
    }
   ],
   "source": [
    "connection = openeo.connect(\"https://openeo.dataspace.copernicus.eu\").authenticate_oidc()"
   ]
  },
  {
   "cell_type": "code",
   "execution_count": 16,
   "id": "805183d3",
   "metadata": {},
   "outputs": [],
   "source": [
    "bandas_cyano = [\"B03\", \"B04\", \"B05\", \"B06\", \"B07\", \"B08\"]\n",
    "\n",
    "lago_atitlan = {\n",
    "    \"west\": -91.31,\n",
    "    \"east\": -91.08,\n",
    "    \"south\": 14.60,\n",
    "    \"north\": 14.74,\n",
    "    \"crs\": \"EPSG:4326\"\n",
    "}\n",
    "\n",
    "lago_amatitlan = {\n",
    "    \"west\": -90.66,\n",
    "    \"east\": -90.58,\n",
    "    \"south\": 14.43,\n",
    "    \"north\": 14.51,\n",
    "    \"crs\": \"EPSG:4326\"\n",
    "}\n"
   ]
  },
  {
   "cell_type": "code",
   "execution_count": 17,
   "id": "fce72d46",
   "metadata": {},
   "outputs": [],
   "source": [
    "# Atitlán\n",
    "atitlan_cube = connection.load_collection(\n",
    "    \"SENTINEL2_L2A\",\n",
    "    spatial_extent=lago_atitlan,\n",
    "    temporal_extent=[\"2025-05-01\", \"2025-08-03\"],\n",
    "    bands=bandas_cyano\n",
    ")\n",
    "\n",
    "# Amatitlán\n",
    "amatitlan_cube = connection.load_collection(\n",
    "    \"SENTINEL2_L2A\",\n",
    "    spatial_extent=lago_amatitlan,\n",
    "    temporal_extent=[\"2025-05-01\", \"2025-08-03\"],\n",
    "    bands=bandas_cyano\n",
    ")\n"
   ]
  },
  {
   "cell_type": "code",
   "execution_count": 18,
   "id": "79153970",
   "metadata": {},
   "outputs": [
    {
     "name": "stdout",
     "output_type": "stream",
     "text": [
      "0:00:00 Job 'j-2508072229414d9abd5092e105c4fd68': send 'start'\n",
      "0:00:13 Job 'j-2508072229414d9abd5092e105c4fd68': created (progress 0%)\n",
      "0:00:18 Job 'j-2508072229414d9abd5092e105c4fd68': created (progress 0%)\n",
      "0:00:25 Job 'j-2508072229414d9abd5092e105c4fd68': created (progress 0%)\n",
      "0:00:33 Job 'j-2508072229414d9abd5092e105c4fd68': running (progress N/A)\n",
      "0:00:43 Job 'j-2508072229414d9abd5092e105c4fd68': running (progress N/A)\n",
      "0:00:56 Job 'j-2508072229414d9abd5092e105c4fd68': running (progress N/A)\n",
      "0:01:11 Job 'j-2508072229414d9abd5092e105c4fd68': running (progress N/A)\n",
      "0:01:31 Job 'j-2508072229414d9abd5092e105c4fd68': running (progress N/A)\n",
      "0:01:55 Job 'j-2508072229414d9abd5092e105c4fd68': running (progress N/A)\n",
      "0:02:25 Job 'j-2508072229414d9abd5092e105c4fd68': running (progress N/A)\n",
      "0:03:03 Job 'j-2508072229414d9abd5092e105c4fd68': running (progress N/A)\n",
      "0:03:50 Job 'j-2508072229414d9abd5092e105c4fd68': running (progress N/A)\n",
      "0:04:48 Job 'j-2508072229414d9abd5092e105c4fd68': running (progress N/A)\n",
      "0:05:49 Job 'j-2508072229414d9abd5092e105c4fd68': finished (progress 100%)\n"
     ]
    },
    {
     "data": {
      "text/plain": [
       "[WindowsPath('data/Bandas_Atitlan/openEO_2025-05-01Z.tif'),\n",
       " WindowsPath('data/Bandas_Atitlan/openEO_2025-05-03Z.tif'),\n",
       " WindowsPath('data/Bandas_Atitlan/openEO_2025-05-05Z.tif'),\n",
       " WindowsPath('data/Bandas_Atitlan/openEO_2025-05-06Z.tif'),\n",
       " WindowsPath('data/Bandas_Atitlan/openEO_2025-05-08Z.tif'),\n",
       " WindowsPath('data/Bandas_Atitlan/openEO_2025-05-11Z.tif'),\n",
       " WindowsPath('data/Bandas_Atitlan/openEO_2025-05-13Z.tif'),\n",
       " WindowsPath('data/Bandas_Atitlan/openEO_2025-05-16Z.tif'),\n",
       " WindowsPath('data/Bandas_Atitlan/openEO_2025-05-18Z.tif'),\n",
       " WindowsPath('data/Bandas_Atitlan/openEO_2025-05-21Z.tif'),\n",
       " WindowsPath('data/Bandas_Atitlan/openEO_2025-05-23Z.tif'),\n",
       " WindowsPath('data/Bandas_Atitlan/openEO_2025-05-25Z.tif'),\n",
       " WindowsPath('data/Bandas_Atitlan/openEO_2025-05-26Z.tif'),\n",
       " WindowsPath('data/Bandas_Atitlan/openEO_2025-05-28Z.tif'),\n",
       " WindowsPath('data/Bandas_Atitlan/openEO_2025-05-31Z.tif'),\n",
       " WindowsPath('data/Bandas_Atitlan/openEO_2025-06-02Z.tif'),\n",
       " WindowsPath('data/Bandas_Atitlan/openEO_2025-06-05Z.tif'),\n",
       " WindowsPath('data/Bandas_Atitlan/openEO_2025-06-07Z.tif'),\n",
       " WindowsPath('data/Bandas_Atitlan/openEO_2025-06-10Z.tif'),\n",
       " WindowsPath('data/Bandas_Atitlan/openEO_2025-06-12Z.tif'),\n",
       " WindowsPath('data/Bandas_Atitlan/openEO_2025-06-14Z.tif'),\n",
       " WindowsPath('data/Bandas_Atitlan/openEO_2025-06-15Z.tif'),\n",
       " WindowsPath('data/Bandas_Atitlan/openEO_2025-06-17Z.tif'),\n",
       " WindowsPath('data/Bandas_Atitlan/openEO_2025-06-20Z.tif'),\n",
       " WindowsPath('data/Bandas_Atitlan/openEO_2025-06-22Z.tif'),\n",
       " WindowsPath('data/Bandas_Atitlan/openEO_2025-06-25Z.tif'),\n",
       " WindowsPath('data/Bandas_Atitlan/openEO_2025-06-27Z.tif'),\n",
       " WindowsPath('data/Bandas_Atitlan/openEO_2025-06-30Z.tif'),\n",
       " WindowsPath('data/Bandas_Atitlan/openEO_2025-07-02Z.tif'),\n",
       " WindowsPath('data/Bandas_Atitlan/openEO_2025-07-04Z.tif'),\n",
       " WindowsPath('data/Bandas_Atitlan/openEO_2025-07-05Z.tif'),\n",
       " WindowsPath('data/Bandas_Atitlan/openEO_2025-07-07Z.tif'),\n",
       " WindowsPath('data/Bandas_Atitlan/openEO_2025-07-10Z.tif'),\n",
       " WindowsPath('data/Bandas_Atitlan/openEO_2025-07-12Z.tif'),\n",
       " WindowsPath('data/Bandas_Atitlan/openEO_2025-07-15Z.tif'),\n",
       " WindowsPath('data/Bandas_Atitlan/openEO_2025-07-17Z.tif'),\n",
       " WindowsPath('data/Bandas_Atitlan/openEO_2025-07-20Z.tif'),\n",
       " WindowsPath('data/Bandas_Atitlan/openEO_2025-07-22Z.tif'),\n",
       " WindowsPath('data/Bandas_Atitlan/openEO_2025-07-24Z.tif'),\n",
       " WindowsPath('data/Bandas_Atitlan/openEO_2025-07-25Z.tif'),\n",
       " WindowsPath('data/Bandas_Atitlan/openEO_2025-07-27Z.tif'),\n",
       " WindowsPath('data/Bandas_Atitlan/openEO_2025-07-30Z.tif'),\n",
       " WindowsPath('data/Bandas_Atitlan/openEO_2025-08-01Z.tif'),\n",
       " WindowsPath('data/Bandas_Atitlan/job-results.json')]"
      ]
     },
     "execution_count": 18,
     "metadata": {},
     "output_type": "execute_result"
    }
   ],
   "source": [
    "# Atitlán\n",
    "result_graph_atitlan = atitlan_cube.save_result(format=\"GTIFF\")\n",
    "job_atitlan = connection.create_job(result_graph_atitlan)\n",
    "job_atitlan.start_and_wait()\n",
    "job_atitlan.get_results().download_files(\"data/Bandas_Atitlan\")"
   ]
  },
  {
   "cell_type": "code",
   "execution_count": 19,
   "id": "0b16b4cf",
   "metadata": {},
   "outputs": [
    {
     "name": "stdout",
     "output_type": "stream",
     "text": [
      "0:00:00 Job 'j-250807231200405a8480cf25610ff824': send 'start'\n",
      "0:00:13 Job 'j-250807231200405a8480cf25610ff824': queued (progress 0%)\n",
      "0:00:19 Job 'j-250807231200405a8480cf25610ff824': queued (progress 0%)\n",
      "0:00:25 Job 'j-250807231200405a8480cf25610ff824': queued (progress 0%)\n",
      "0:00:33 Job 'j-250807231200405a8480cf25610ff824': queued (progress 0%)\n",
      "0:00:43 Job 'j-250807231200405a8480cf25610ff824': queued (progress 0%)\n",
      "0:00:56 Job 'j-250807231200405a8480cf25610ff824': queued (progress 0%)\n",
      "0:01:12 Job 'j-250807231200405a8480cf25610ff824': running (progress N/A)\n",
      "0:01:31 Job 'j-250807231200405a8480cf25610ff824': running (progress N/A)\n",
      "0:01:55 Job 'j-250807231200405a8480cf25610ff824': running (progress N/A)\n",
      "0:02:25 Job 'j-250807231200405a8480cf25610ff824': running (progress N/A)\n",
      "0:03:03 Job 'j-250807231200405a8480cf25610ff824': running (progress N/A)\n",
      "0:03:50 Job 'j-250807231200405a8480cf25610ff824': finished (progress 100%)\n"
     ]
    },
    {
     "data": {
      "text/plain": [
       "[WindowsPath('data/Bandas_Amatitlan/openEO_2025-05-03Z.tif'),\n",
       " WindowsPath('data/Bandas_Amatitlan/openEO_2025-05-05Z.tif'),\n",
       " WindowsPath('data/Bandas_Amatitlan/openEO_2025-05-08Z.tif'),\n",
       " WindowsPath('data/Bandas_Amatitlan/openEO_2025-05-13Z.tif'),\n",
       " WindowsPath('data/Bandas_Amatitlan/openEO_2025-05-18Z.tif'),\n",
       " WindowsPath('data/Bandas_Amatitlan/openEO_2025-05-23Z.tif'),\n",
       " WindowsPath('data/Bandas_Amatitlan/openEO_2025-05-25Z.tif'),\n",
       " WindowsPath('data/Bandas_Amatitlan/openEO_2025-05-28Z.tif'),\n",
       " WindowsPath('data/Bandas_Amatitlan/openEO_2025-06-02Z.tif'),\n",
       " WindowsPath('data/Bandas_Amatitlan/openEO_2025-06-07Z.tif'),\n",
       " WindowsPath('data/Bandas_Amatitlan/openEO_2025-06-12Z.tif'),\n",
       " WindowsPath('data/Bandas_Amatitlan/openEO_2025-06-14Z.tif'),\n",
       " WindowsPath('data/Bandas_Amatitlan/openEO_2025-06-17Z.tif'),\n",
       " WindowsPath('data/Bandas_Amatitlan/openEO_2025-06-22Z.tif'),\n",
       " WindowsPath('data/Bandas_Amatitlan/openEO_2025-06-27Z.tif'),\n",
       " WindowsPath('data/Bandas_Amatitlan/openEO_2025-07-02Z.tif'),\n",
       " WindowsPath('data/Bandas_Amatitlan/openEO_2025-07-04Z.tif'),\n",
       " WindowsPath('data/Bandas_Amatitlan/openEO_2025-07-07Z.tif'),\n",
       " WindowsPath('data/Bandas_Amatitlan/openEO_2025-07-12Z.tif'),\n",
       " WindowsPath('data/Bandas_Amatitlan/openEO_2025-07-17Z.tif'),\n",
       " WindowsPath('data/Bandas_Amatitlan/openEO_2025-07-22Z.tif'),\n",
       " WindowsPath('data/Bandas_Amatitlan/openEO_2025-07-24Z.tif'),\n",
       " WindowsPath('data/Bandas_Amatitlan/openEO_2025-07-27Z.tif'),\n",
       " WindowsPath('data/Bandas_Amatitlan/openEO_2025-08-01Z.tif'),\n",
       " WindowsPath('data/Bandas_Amatitlan/job-results.json')]"
      ]
     },
     "execution_count": 19,
     "metadata": {},
     "output_type": "execute_result"
    }
   ],
   "source": [
    "# Amatitlán\n",
    "result_graph_amatitlan = amatitlan_cube.save_result(format=\"GTIFF\")\n",
    "job_amatitlan = connection.create_job(result_graph_amatitlan)\n",
    "job_amatitlan.start_and_wait()\n",
    "job_amatitlan.get_results().download_files(\"data/Bandas_Amatitlan\")"
   ]
  }
 ],
 "metadata": {
  "kernelspec": {
   "display_name": "Python 3",
   "language": "python",
   "name": "python3"
  },
  "language_info": {
   "codemirror_mode": {
    "name": "ipython",
    "version": 3
   },
   "file_extension": ".py",
   "mimetype": "text/x-python",
   "name": "python",
   "nbconvert_exporter": "python",
   "pygments_lexer": "ipython3",
   "version": "3.13.2"
  }
 },
 "nbformat": 4,
 "nbformat_minor": 5
}
